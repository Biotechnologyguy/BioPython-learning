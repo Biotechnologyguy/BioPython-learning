{
 "cells": [
  {
   "cell_type": "code",
   "execution_count": 1,
   "id": "d83589e3-8d0e-4bb0-8829-be1e2bbe4af0",
   "metadata": {},
   "outputs": [
    {
     "name": "stdout",
     "output_type": "stream",
     "text": [
      "Requirement already satisfied: biopython in c:\\users\\shubh\\appdata\\local\\programs\\python\\python312\\lib\\site-packages (1.83)\n",
      "Requirement already satisfied: numpy in c:\\users\\shubh\\appdata\\local\\programs\\python\\python312\\lib\\site-packages (from biopython) (1.26.3)\n"
     ]
    }
   ],
   "source": [
    "!pip install biopython"
   ]
  },
  {
   "cell_type": "code",
   "execution_count": 3,
   "id": "108fd05e-3e26-412c-bb21-c361b30a29aa",
   "metadata": {},
   "outputs": [],
   "source": [
    "\n",
    "from Bio import SeqIO\n",
    "from Bio.Seq import Seq\n",
    "import io"
   ]
  },
  {
   "cell_type": "markdown",
   "id": "29dd10a0-f996-47a7-8971-f1689663ebb6",
   "metadata": {},
   "source": [
    "# Find Id of sequence with Max GC Content"
   ]
  },
  {
   "cell_type": "code",
   "execution_count": 15,
   "id": "180d713b-f57d-4d98-96ff-b298273b9cc0",
   "metadata": {},
   "outputs": [
    {
     "name": "stdout",
     "output_type": "stream",
     "text": [
      "BM510748.1\n",
      "63.04801670146137\n"
     ]
    }
   ],
   "source": [
    "file = r\"C:\\Users\\shubh\\Downloads\\sequence.fasta\"\n",
    "\n",
    "max_sequence_id = None\n",
    "max_gc_content = 0\n",
    "sequences = SeqIO.parse(file, 'fasta')\n",
    "for seq_record in sequences:\n",
    "    sequence = str(seq_record.seq).upper() #converting sequence to string\n",
    "    sequence_id = seq_record.id\n",
    "    gc_content = (sequence.count(\"C\") + sequence.count(\"G\")) / len(sequence) * 100\n",
    "    if gc_content > max_gc_content:\n",
    "        max_sequence_id = sequence_id\n",
    "        max_gc_content = gc_content\n",
    "print(max_sequence_id)\n",
    "print(max_gc_content)"
   ]
  },
  {
   "cell_type": "code",
   "execution_count": null,
   "id": "145bfa05-d20e-4455-b9ea-17f52746d90a",
   "metadata": {},
   "outputs": [],
   "source": []
  },
  {
   "cell_type": "markdown",
   "id": "6488edce-11ae-4461-922f-5685a8ed73a7",
   "metadata": {},
   "source": [
    "# Central Dogma"
   ]
  },
  {
   "cell_type": "markdown",
   "id": "6d5bd153-457c-4667-9478-2dc08fead068",
   "metadata": {
    "jp-MarkdownHeadingCollapsed": true
   },
   "source": [
    "## Seq Object: Methods"
   ]
  },
  {
   "cell_type": "code",
   "execution_count": 19,
   "id": "8e4cb4e0-88db-4199-8133-b1df7e65e907",
   "metadata": {},
   "outputs": [
    {
     "name": "stdout",
     "output_type": "stream",
     "text": [
      "ATGCAGCTACGAT\n"
     ]
    }
   ],
   "source": [
    "from Bio.Seq import Seq\n",
    "\n",
    "sequence = Seq(\"ATGCAGCTACGAT\")\n",
    "print(sequence)"
   ]
  },
  {
   "cell_type": "markdown",
   "id": "af9c43c3-3007-42f4-987f-727df955d671",
   "metadata": {},
   "source": [
    "### count(): \n",
    "\n",
    "Gives non-overlapping count"
   ]
  },
  {
   "cell_type": "code",
   "execution_count": 21,
   "id": "d6d76a07-1c7f-4b49-aed8-0896f2a6b534",
   "metadata": {},
   "outputs": [
    {
     "data": {
      "text/plain": [
       "2"
      ]
     },
     "execution_count": 21,
     "metadata": {},
     "output_type": "execute_result"
    }
   ],
   "source": [
    "sequence = Seq(\"AAAA\")\n",
    "sequence.count(\"AA\")"
   ]
  },
  {
   "cell_type": "markdown",
   "id": "d997ac1c-c999-47f6-83fa-592d2217627a",
   "metadata": {},
   "source": [
    "### count_overlap(): \n",
    "\n",
    "Gives overlapping count"
   ]
  },
  {
   "cell_type": "code",
   "execution_count": 22,
   "id": "9021af2d-824d-4582-a997-93bfe1226eac",
   "metadata": {},
   "outputs": [
    {
     "data": {
      "text/plain": [
       "3"
      ]
     },
     "execution_count": 22,
     "metadata": {},
     "output_type": "execute_result"
    }
   ],
   "source": [
    "sequence = Seq(\"AAAA\")\n",
    "sequence.count_overlap(\"AA\")"
   ]
  },
  {
   "cell_type": "markdown",
   "id": "336aa19a-1914-42bf-9992-c792c0624985",
   "metadata": {},
   "source": [
    "### gc_fraction(): \n",
    "\n",
    "Calculate GC Count"
   ]
  },
  {
   "cell_type": "code",
   "execution_count": 24,
   "id": "46f4bb5f-4314-40da-8698-404f994baa9b",
   "metadata": {},
   "outputs": [],
   "source": [
    "from Bio.SeqUtils import gc_fraction"
   ]
  },
  {
   "cell_type": "code",
   "execution_count": 30,
   "id": "d0c90a2f-155b-4c02-8eac-03d8f3f5ff5b",
   "metadata": {},
   "outputs": [
    {
     "data": {
      "text/plain": [
       "54.90196078431373"
      ]
     },
     "execution_count": 30,
     "metadata": {},
     "output_type": "execute_result"
    }
   ],
   "source": [
    "sequence = \"AAGAGGCCATCAAGCAGGTCTTTGCGTTCCAGGGCCTTTGCGTCAGATCAC\"\n",
    "\n",
    "\n",
    "gc_fraction(sequence) * 100"
   ]
  },
  {
   "cell_type": "code",
   "execution_count": null,
   "id": "5cb404d8-c03f-422b-92e0-44a65ef46cce",
   "metadata": {},
   "outputs": [],
   "source": []
  },
  {
   "cell_type": "markdown",
   "id": "f7212008-2a39-49ec-a33b-fe30fb8ab0a7",
   "metadata": {},
   "source": [
    "## Transcription"
   ]
  },
  {
   "cell_type": "markdown",
   "id": "4b8bbc45-429b-456b-8342-07046e3fddab",
   "metadata": {},
   "source": [
    "### transcribe()"
   ]
  },
  {
   "cell_type": "code",
   "execution_count": 32,
   "id": "25420796-600f-4b7a-ac26-1c9704766fa5",
   "metadata": {},
   "outputs": [],
   "source": [
    "coding_dna = Seq(\"ATGGCCATTGTAATGGGCCGCTGAAAGGGTGCCCGATAG\")\n",
    "messenger_rna = coding_dna.transcribe()"
   ]
  },
  {
   "cell_type": "code",
   "execution_count": 33,
   "id": "eb01ed04-6a13-446d-bfea-f187616d7d81",
   "metadata": {},
   "outputs": [
    {
     "data": {
      "text/plain": [
       "Seq('AUGGCCAUUGUAAUGGGCCGCUGAAAGGGUGCCCGAUAG')"
      ]
     },
     "execution_count": 33,
     "metadata": {},
     "output_type": "execute_result"
    }
   ],
   "source": [
    "messenger_rna"
   ]
  },
  {
   "cell_type": "markdown",
   "id": "66d6c432-5873-4bfd-8fc2-496cfcbbf73f",
   "metadata": {},
   "source": [
    "### back_transcribe()"
   ]
  },
  {
   "cell_type": "code",
   "execution_count": 34,
   "id": "bb30a706-d6b5-4d2a-96c4-9c3bddce743b",
   "metadata": {},
   "outputs": [],
   "source": [
    "cod_dna = messenger_rna.back_transcribe()"
   ]
  },
  {
   "cell_type": "code",
   "execution_count": 35,
   "id": "7eec5985-d0cc-45ad-8c16-720e26fb651e",
   "metadata": {},
   "outputs": [
    {
     "data": {
      "text/plain": [
       "True"
      ]
     },
     "execution_count": 35,
     "metadata": {},
     "output_type": "execute_result"
    }
   ],
   "source": [
    "cod_dna == coding_dna"
   ]
  },
  {
   "cell_type": "code",
   "execution_count": null,
   "id": "287f8f8e-7a8e-49f3-8205-71a11d09c4be",
   "metadata": {},
   "outputs": [],
   "source": []
  },
  {
   "cell_type": "markdown",
   "id": "eeec3c77-e020-4157-87d7-96c4b5a80400",
   "metadata": {},
   "source": [
    "## Transcription"
   ]
  },
  {
   "cell_type": "markdown",
   "id": "7448ba1f-71ca-46d8-acc3-3e7910407db0",
   "metadata": {},
   "source": [
    "### translate()"
   ]
  },
  {
   "cell_type": "code",
   "execution_count": 37,
   "id": "16010386-f862-4f35-9167-ecdabbb332e0",
   "metadata": {},
   "outputs": [
    {
     "data": {
      "text/plain": [
       "Seq('MAIVMGR*KGAR*')"
      ]
     },
     "execution_count": 37,
     "metadata": {},
     "output_type": "execute_result"
    }
   ],
   "source": [
    "messenger_rna.translate()\n",
    "# * == stop codon"
   ]
  },
  {
   "cell_type": "code",
   "execution_count": 39,
   "id": "3bd774df-3ba2-4f60-8780-99627704b4fe",
   "metadata": {},
   "outputs": [
    {
     "data": {
      "text/plain": [
       "Seq('MAIVMGR*KGAR*')"
      ]
     },
     "execution_count": 39,
     "metadata": {},
     "output_type": "execute_result"
    }
   ],
   "source": [
    "# We can directly translate from the coding strand DNA Sequence\n",
    "\n",
    "coding_dna.translate()"
   ]
  },
  {
   "cell_type": "code",
   "execution_count": null,
   "id": "46bd6817-8f9c-4996-a138-115132c8c847",
   "metadata": {},
   "outputs": [],
   "source": []
  }
 ],
 "metadata": {
  "kernelspec": {
   "display_name": "Python 3 (ipykernel)",
   "language": "python",
   "name": "python3"
  },
  "language_info": {
   "codemirror_mode": {
    "name": "ipython",
    "version": 3
   },
   "file_extension": ".py",
   "mimetype": "text/x-python",
   "name": "python",
   "nbconvert_exporter": "python",
   "pygments_lexer": "ipython3",
   "version": "3.12.0"
  }
 },
 "nbformat": 4,
 "nbformat_minor": 5
}
