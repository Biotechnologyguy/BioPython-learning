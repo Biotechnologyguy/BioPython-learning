{
 "cells": [
  {
   "cell_type": "markdown",
   "id": "d8baa2ce-f87c-4134-a265-763fe780897b",
   "metadata": {},
   "source": [
    "## Accessing NCBI databases with Biopython\r\n"
   ]
  },
  {
   "cell_type": "markdown",
   "id": "44569358-6dc3-458c-8609-87fd0303c679",
   "metadata": {},
   "source": [
    "we will look at how to access such databases at the National Center for Biotechnology Information (NCBI). We will not only discuss GenBank, but also other databases at NCBI. Many people refer (wrongly) to the whole set of NCBI databases as GenBank, but NCBI includes the nucleotide database and many others, for example, PubMed."
   ]
  },
  {
   "cell_type": "markdown",
   "id": "94da6fed-8f50-46d0-a4c8-6039186d300d",
   "metadata": {},
   "source": [
    "#### Check available databases at NCBI\n"
   ]
  },
  {
   "cell_type": "markdown",
   "id": "49b0a11b-d17a-468e-ad1a-d4c5027a7c01",
   "metadata": {},
   "source": [
    "Biopython provides an interface to Entrez, the data retrieval system made available by NCBI. Entrez can also be used through web browser: https://www.ncbi.nlm.nih.gov/search/"
   ]
  },
  {
   "cell_type": "markdown",
   "id": "94a76eea-f19e-4c66-a560-b7a590319f55",
   "metadata": {},
   "source": [
    "##### TIPS:\n",
    "- specify an email address with your query\n",
    "- avoid large number of requests (100 or more) during peak times (between 9.00 a.m. and 5.00 p.m. American Eastern Time on weekdays)\n",
    "- do not post more than three queries per second (Biopython will take care of this for you)"
   ]
  },
  {
   "cell_type": "markdown",
   "id": "63a912f8-a44b-4604-a6ea-3c37d0215667",
   "metadata": {},
   "source": [
    "It's not only good citizenship, but you risk getting blocked if you over use NCBI's servers (a good reason to give a real email address, because NCBI may try to contact you)."
   ]
  },
  {
   "cell_type": "code",
   "execution_count": 2,
   "id": "b51c9745-f507-4c62-8b91-c35ce51c0d86",
   "metadata": {},
   "outputs": [],
   "source": [
    "from Bio import Entrez, SeqIO"
   ]
  },
  {
   "cell_type": "code",
   "execution_count": 3,
   "id": "a9702dfb-f794-471a-b02e-87b33542ce10",
   "metadata": {},
   "outputs": [],
   "source": [
    "Entrez.email = \"shubhamvt121@gmail.com\""
   ]
  },
  {
   "cell_type": "markdown",
   "id": "6d743188-9263-4174-84c5-b149cd798844",
   "metadata": {},
   "source": [
    "**EInfo**: obtain a list of all database names accessible through Entrez\r\n",
    "\r\n"
   ]
  },
  {
   "cell_type": "code",
   "execution_count": 7,
   "id": "e2871f42-4597-48ad-917a-4649608f4201",
   "metadata": {},
   "outputs": [
    {
     "name": "stdout",
     "output_type": "stream",
     "text": [
      "dict_keys(['DbList'])\n"
     ]
    }
   ],
   "source": [
    "# This gives you the list of available databases\n",
    "handle = Entrez.einfo()\n",
    "rec = Entrez.read(handle)\n",
    "handle.close()\n",
    "print(rec.keys())"
   ]
  },
  {
   "cell_type": "code",
   "execution_count": 8,
   "id": "6331ea7c-e709-4af9-b6f1-11547be4465b",
   "metadata": {},
   "outputs": [
    {
     "data": {
      "text/plain": [
       "['pubmed', 'protein', 'nuccore', 'ipg', 'nucleotide', 'structure', 'genome', 'annotinfo', 'assembly', 'bioproject', 'biosample', 'blastdbinfo', 'books', 'cdd', 'clinvar', 'gap', 'gapplus', 'grasp', 'dbvar', 'gene', 'gds', 'geoprofiles', 'medgen', 'mesh', 'nlmcatalog', 'omim', 'orgtrack', 'pmc', 'popset', 'proteinclusters', 'pcassay', 'protfam', 'pccompound', 'pcsubstance', 'seqannot', 'snp', 'sra', 'taxonomy', 'biocollections', 'gtr']"
      ]
     },
     "execution_count": 8,
     "metadata": {},
     "output_type": "execute_result"
    }
   ],
   "source": [
    "rec['DbList']"
   ]
  },
  {
   "cell_type": "markdown",
   "id": "906129d0-7431-46ba-b136-3ecc262ab424",
   "metadata": {},
   "source": [
    "We will now try to find the **chloroquine resistance transporter (CRT)** gene (KM288867) in Plasmodium falciparum (the parasite that causes the deadliest form of malaria) on the nucleotide database:\r\n",
    "**\r\n",
    "ESear**ch: Searching the Entrez databases\r\n",
    "\r\n",
    "Note that the standard search will limit the number of record references to 20, so if we have more, we can override retmax to desired amount of records."
   ]
  },
  {
   "cell_type": "code",
   "execution_count": 10,
   "id": "dd3480c0-e885-45a8-8311-292936a9f0ec",
   "metadata": {},
   "outputs": [
    {
     "data": {
      "text/plain": [
       "'3081'"
      ]
     },
     "execution_count": 10,
     "metadata": {},
     "output_type": "execute_result"
    }
   ],
   "source": [
    "handle = Entrez.esearch(db=\"nucleotide\", term='CRT[Gene Name] AND \"Plasmodium falciparum\"[Organism]', retmax=\"40\")\n",
    "rec_list = Entrez.read(handle)\n",
    "handle.close()\n",
    "rec_list['Count']"
   ]
  },
  {
   "cell_type": "code",
   "execution_count": 11,
   "id": "cb5753ba-24a8-4d4f-95be-59558dde6785",
   "metadata": {},
   "outputs": [
    {
     "data": {
      "text/plain": [
       "40"
      ]
     },
     "execution_count": 11,
     "metadata": {},
     "output_type": "execute_result"
    }
   ],
   "source": [
    "len(rec_list['IdList'])"
   ]
  },
  {
   "cell_type": "code",
   "execution_count": 12,
   "id": "6691956d-2237-4186-b228-d242161f0130",
   "metadata": {},
   "outputs": [
    {
     "data": {
      "text/plain": [
       "['2587918588', '2507817686', '2507817684', '2507817682', '2507817680', '2507817678', '2507817676', '2507817674', '2507817672', '2507817670', '2507817668', '2507817666', '2507817664', '2507817662', '2507817660', '2507817658', '2507817656', '2507817654', '2507817652', '2507817650', '2507817648', '2507817646', '2507817644', '2507817642', '2507817640', '2507817638', '2507817636', '2507817634', '2507817632', '2507817630', '2507817628', '2507817626', '2507817624', '2507817622', '2507817620', '2507817618', '2507817616', '2507817614', '2507817612', '2507817610']"
      ]
     },
     "execution_count": 12,
     "metadata": {},
     "output_type": "execute_result"
    }
   ],
   "source": [
    "rec_list['IdList']"
   ]
  },
  {
   "cell_type": "markdown",
   "id": "5d31cb57-9c32-4dd6-83cd-1b5bcede0b0c",
   "metadata": {},
   "source": [
    "We now have the IDs of all of the records, but we still need to retrieve the records properly.\r\n",
    "\n",
    "\r\n",
    "EFetch: Downloading full records from Entrez\r\n",
    "\r\n",
    "Requesting a specific file format from Entrez using Bio.Entrez.efetch() requires specifying the rettype and/or retmode optional arguments. The different combinations are described for each database type on the pages linked to on NCBI efetch webpage - https://www.ncbi.nlm.nih.gov/books/NBK25499/#chapter4.EFetch\r\n",
    "\r\n",
    "rettype - return type, gb == GenBank retmax - Total number of records from the input set to be retrieved, up to a maximum of 10,000"
   ]
  },
  {
   "cell_type": "code",
   "execution_count": 15,
   "id": "74d840d9-d3df-40da-a39b-a076d803b434",
   "metadata": {},
   "outputs": [
    {
     "data": {
      "text/plain": [
       "<function TextIOWrapper.close()>"
      ]
     },
     "execution_count": 15,
     "metadata": {},
     "output_type": "execute_result"
    }
   ],
   "source": [
    "id_list = rec_list['IdList']\n",
    "handle = Entrez.efetch(db='nucleotide', id=id_list, rettype='gb')\n",
    "\n",
    "recs = list(SeqIO.parse(handle, 'gb'))\n",
    "handle.close"
   ]
  },
  {
   "cell_type": "markdown",
   "id": "91e829dd-2e25-4039-a7ee-4cd14aed2453",
   "metadata": {},
   "source": [
    "Note that we have converted an iterator (the result of SeqIO.parse) to a list. The advantage of doing this is that we can use the result as many times as we want (for example, iterate many times over), without repeating the query on the server.\n",
    "\n"
   ]
  },
  {
   "cell_type": "code",
   "execution_count": 18,
   "id": "368e92c7-1f0b-4452-ba8f-9c5ff8463570",
   "metadata": {},
   "outputs": [
    {
     "data": {
      "text/plain": [
       "40"
      ]
     },
     "execution_count": 18,
     "metadata": {},
     "output_type": "execute_result"
    }
   ],
   "source": [
    "len(recs)"
   ]
  },
  {
   "cell_type": "code",
   "execution_count": 20,
   "id": "9c9cf511-f84e-48ca-8729-a4f3e87e0bf9",
   "metadata": {},
   "outputs": [
    {
     "data": {
      "text/plain": [
       "[SeqRecord(seq=Seq('GGTGGAGGTTCTTGTCTTGGTAAATGTGCTCATGTGTTTAAACTTATTTTTAAA...AAA'), id='OR483864.1', name='OR483864', description='Plasmodium falciparum isolate PE-26 chloroquine resistance transporter (crt) gene, partial cds', dbxrefs=[]),\n",
       " SeqRecord(seq=Seq('TGTGCTCATGTGTTTAAACTTATTTTTAAAGAGATTAAGGATAATATTTTTATT...TTG'), id='OQ672451.1', name='OQ672451', description='Plasmodium falciparum isolate ML_14 chloroquine resistance transporter (crt) gene, partial cds', dbxrefs=[]),\n",
       " SeqRecord(seq=Seq('TGTGCTCATGTGTTTAAACTTATTTTTAAAGAGATTAAGGATAATATTTTTATT...TTG'), id='OQ672450.1', name='OQ672450', description='Plasmodium falciparum isolate ML_13 chloroquine resistance transporter (crt) gene, partial cds', dbxrefs=[]),\n",
       " SeqRecord(seq=Seq('TGTGCTCATGTGTTTAAACTTATTTTTAAAGAGATTAAGGATAATATTTTTATT...TTG'), id='OQ672449.1', name='OQ672449', description='Plasmodium falciparum isolate ML_12 chloroquine resistance transporter (crt) gene, partial cds', dbxrefs=[]),\n",
       " SeqRecord(seq=Seq('TGTGCTCATGTGTTTAAACTTATTTTTAAAGAGATTAAGGATAATATTTTTATT...TTG'), id='OQ672448.1', name='OQ672448', description='Plasmodium falciparum isolate ML_11 chloroquine resistance transporter (crt) gene, partial cds', dbxrefs=[]),\n",
       " SeqRecord(seq=Seq('TGTGCTCATGTGTTTAAACTTATTTTTAAAGAGATTAAGGATAATATTTTTATT...TTG'), id='OQ672447.1', name='OQ672447', description='Plasmodium falciparum isolate ML_10 chloroquine resistance transporter (crt) gene, partial cds', dbxrefs=[]),\n",
       " SeqRecord(seq=Seq('TGTGCTCATGTGTTTAAACTTATTTTTAAAGAGATTAAGGATAATATTTTTATT...TTG'), id='OQ672446.1', name='OQ672446', description='Plasmodium falciparum isolate ML_09 chloroquine resistance transporter (crt) gene, partial cds', dbxrefs=[]),\n",
       " SeqRecord(seq=Seq('TGTGCTCATGTGTTTAAACTTATTTTTAAAGAGATTAAGGATAATATTTTTATT...TTG'), id='OQ672445.1', name='OQ672445', description='Plasmodium falciparum isolate ML_08 chloroquine resistance transporter (crt) gene, partial cds', dbxrefs=[]),\n",
       " SeqRecord(seq=Seq('TGTGCTCATGTGTTTAAACTTATTTTTAAAGAGATTAAGGATAATATTTTTATT...TTG'), id='OQ672444.1', name='OQ672444', description='Plasmodium falciparum isolate ML_07 chloroquine resistance transporter (crt) gene, partial cds', dbxrefs=[]),\n",
       " SeqRecord(seq=Seq('TGTGCTCATGTGTTTAAACTTATTTTTAAAGAGATTAAGGATAATATTTTTATT...TTG'), id='OQ672443.1', name='OQ672443', description='Plasmodium falciparum isolate ML_06 chloroquine resistance transporter (crt) gene, partial cds', dbxrefs=[])]"
      ]
     },
     "execution_count": 20,
     "metadata": {},
     "output_type": "execute_result"
    }
   ],
   "source": [
    "recs[:10]"
   ]
  },
  {
   "cell_type": "code",
   "execution_count": 21,
   "id": "8154abf7-2798-4e47-85da-3e49cdacae7d",
   "metadata": {},
   "outputs": [
    {
     "name": "stdout",
     "output_type": "stream",
     "text": [
      "OQ672413\n",
      "Plasmodium falciparum isolate MAO_27 chloroquine resistance transporter (crt) gene, partial cds\n"
     ]
    }
   ],
   "source": [
    "for rec in recs:\n",
    "    if rec.name == 'KM288867': #Try finding CRT gene in 40 records we fetched\n",
    "        break\n",
    "print(rec.name)\n",
    "print(rec.description)"
   ]
  },
  {
   "cell_type": "code",
   "execution_count": 22,
   "id": "d6b62f66-e81a-4f00-bfe8-a65f2060a394",
   "metadata": {},
   "outputs": [
    {
     "data": {
      "text/plain": [
       "'TGTGCTCATGTGTTTAAACTTATTTTTAAAGAGATTAAGGATAATATTTTTATTTATATTTTAAGTATTATTTATTTAAGTGTATCTGTAATGAATACAATTTTTGCTAAAAGAACTTTAAACAAAATTGGTAACTATAGTTTTG'"
      ]
     },
     "execution_count": 22,
     "metadata": {},
     "output_type": "execute_result"
    }
   ],
   "source": [
    "str(rec.seq)"
   ]
  }
 ],
 "metadata": {
  "kernelspec": {
   "display_name": "Python 3 (ipykernel)",
   "language": "python",
   "name": "python3"
  },
  "language_info": {
   "codemirror_mode": {
    "name": "ipython",
    "version": 3
   },
   "file_extension": ".py",
   "mimetype": "text/x-python",
   "name": "python",
   "nbconvert_exporter": "python",
   "pygments_lexer": "ipython3",
   "version": "3.12.0"
  }
 },
 "nbformat": 4,
 "nbformat_minor": 5
}
